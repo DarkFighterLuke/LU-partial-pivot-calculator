{
 "cells": [
  {
   "cell_type": "code",
   "execution_count": 1,
   "metadata": {},
   "outputs": [],
   "source": [
    "def LUpartial(A):\n",
    "    \"\"\"\n",
    "    Funzione che esegue la fattorizzazione LU con pivot parziale di una data matrice.\n",
    " \n",
    "    Input data:\n",
    "    A   square non-singular matrix\n",
    "     \n",
    "    Output data:\n",
    "    L   lower triangular matrix with det(L)=1\n",
    "    U   upper triangular matrix with det(L)!=0\n",
    "    P   permutation matrix\n",
    " \n",
    "     \"\"\"\n",
    "    \n",
    "    (n,m)=A.shape    #gets rows and columns of the given matrix\n",
    "\n",
    "    #checks that the given matrix is square\n",
    "    if (n != m):\n",
    "        print(\"The given matrix is not square.\\n\", \n",
    "               \"LU factorization need a square non-singular matrix to work.\")\n",
    "        return (None, None, None)\n",
    "\n",
    "    #initializes matrices\n",
    "    U = np.copy(A)      #copies A elements into U\n",
    "    L = np.zeros([n,n]) #creates L as a 0-made matrix \n",
    "    P = np.eye(n)       #creates permutation matrix\n",
    "    for i in range (0,n):\n",
    "        print(\"\\nStep\", i+1)\n",
    "        maxIndex=np.argmax(np.abs(U[i:,i])) #finds the index of the maximum partial pivot \n",
    "\n",
    "        P[ [i, maxIndex+i],:] =P[[maxIndex+i,i],:]   #permutates P rows\n",
    "\n",
    "        U[ [i,maxIndex+i],:]  =U[[maxIndex+i,i],:]  #permutates U rows\n",
    "\n",
    "        L[[i, maxIndex+i],:]  =L[[maxIndex+i,i],:]   #permutates L rows\n",
    "        \n",
    "        print(\"L:\\n\", L)\n",
    "        print(\"U:\\n\", U)\n",
    "        print(\"P:\\n\", P)\n",
    "\n",
    "\n",
    "        if abs(np.float64(U[i,i])) < np.finfo(np.float64(U[i,i])).eps:\n",
    "            print(\"Couldn't execute LU factorization with partial pivot.\\n\", \n",
    "                  \"The matrix could have scaling problems or be singular!\")\n",
    "            return (None, None, None)\n",
    "\n",
    "\n",
    "        L[(i+1):n,i] = U[(i+1):n,i]/U[i,i] #calculates L elements\n",
    "\n",
    "        #overwrites U with the new one\n",
    "        U[(i+1):n,(i+1):n]=U[(i+1):n,(i+1):n]-np.outer(L[(i+1):n,i],U[i,(i+1):n]) #updates the second block of the second row\n",
    "\n",
    "        U[(i+1):n,i]=0 #sets to 0 the first block of the second row\n",
    "\n",
    "    L=L+np.eye(n)   #adds identity to L to put ones on diagonal\n",
    "    return (L,U,P)"
   ]
  },
  {
   "cell_type": "code",
   "execution_count": 2,
   "metadata": {},
   "outputs": [],
   "source": [
    "def testLU(L, U, P):\n",
    "    LU=np.dot(L, U)  #matrices product\n",
    "\n",
    "    #permutates LU using P\n",
    "    print(\"Permutated L and U product:\\n\", np.dot(np.transpose(P), LU))"
   ]
  },
  {
   "cell_type": "markdown",
   "metadata": {},
   "source": [
    "## Factorization"
   ]
  },
  {
   "cell_type": "code",
   "execution_count": 3,
   "metadata": {},
   "outputs": [
    {
     "name": "stdout",
     "output_type": "stream",
     "text": [
      "\n",
      "Step 1\n",
      "L:\n",
      " [[0. 0. 0.]\n",
      " [0. 0. 0.]\n",
      " [0. 0. 0.]]\n",
      "U:\n",
      " [[ 2.   -5.    8.  ]\n",
      " [ 0.5  -1.   -1.75]\n",
      " [ 1.   -0.5  -2.  ]]\n",
      "P:\n",
      " [[0. 0. 1.]\n",
      " [0. 1. 0.]\n",
      " [1. 0. 0.]]\n",
      "\n",
      "Step 2\n",
      "L:\n",
      " [[0.   0.   0.  ]\n",
      " [0.5  0.   0.  ]\n",
      " [0.25 0.   0.  ]]\n",
      "U:\n",
      " [[ 2.   -5.    8.  ]\n",
      " [ 0.    2.   -6.  ]\n",
      " [ 0.    0.25 -3.75]]\n",
      "P:\n",
      " [[0. 0. 1.]\n",
      " [1. 0. 0.]\n",
      " [0. 1. 0.]]\n",
      "\n",
      "Step 3\n",
      "L:\n",
      " [[0.    0.    0.   ]\n",
      " [0.5   0.    0.   ]\n",
      " [0.25  0.125 0.   ]]\n",
      "U:\n",
      " [[ 2. -5.  8.]\n",
      " [ 0.  2. -6.]\n",
      " [ 0.  0. -3.]]\n",
      "P:\n",
      " [[0. 0. 1.]\n",
      " [1. 0. 0.]\n",
      " [0. 1. 0.]]\n",
      "Final result\n",
      "\n",
      "L:\n",
      " [[1.    0.    0.   ]\n",
      " [0.5   1.    0.   ]\n",
      " [0.25  0.125 1.   ]]\n",
      "U:\n",
      " [[ 2. -5.  8.]\n",
      " [ 0.  2. -6.]\n",
      " [ 0.  0. -3.]]\n",
      "P:\n",
      " [[0. 0. 1.]\n",
      " [1. 0. 0.]\n",
      " [0. 1. 0.]]\n"
     ]
    }
   ],
   "source": [
    "import numpy as np\n",
    "import scipy.linalg as las\n",
    "\n",
    "#insert here your matrix to factorize\n",
    "A=np.matrix('1 -0.5 -2; 0.5 -1 -1.75; 2 -5 8')\n",
    "\n",
    "L, U, P=LUpartial(A)\n",
    "print(\"Final result\\n\")\n",
    "print(\"L:\\n\", L)\n",
    "print(\"U:\\n\", U)\n",
    "print(\"P:\\n\", P)"
   ]
  },
  {
   "cell_type": "markdown",
   "metadata": {},
   "source": [
    "## Test factorization"
   ]
  },
  {
   "cell_type": "code",
   "execution_count": 4,
   "metadata": {},
   "outputs": [
    {
     "name": "stdout",
     "output_type": "stream",
     "text": [
      "Permutated L and U product:\n",
      " [[4. 0. 1. 1.]\n",
      " [3. 1. 3. 1.]\n",
      " [0. 1. 2. 0.]\n",
      " [2. 2. 4. 1.]]\n"
     ]
    }
   ],
   "source": [
    "#insert here your matrices to test\n",
    "L=np.matrix('1 0 0 0; 0.5 1 0 0; 0.75 0.5 1 0; 0 0.5 0.5 1')\n",
    "U=np.matrix('4 0 1 1; 0 2 3.5 0.5; 0 0 0.5 0; 0 0 0 -0.25')\n",
    "P=np.matrix('1 0 0 0; 0 0 0 1; 0 1 0 0; 0 0 1 0')\n",
    "\n",
    "testLU(L,U,P)"
   ]
  }
 ],
 "metadata": {
  "ipub": {
   "titlepage": {
    "author": "Luca Consoli"
   }
  },
  "kernelspec": {
   "display_name": "Python 3",
   "language": "python",
   "name": "python3"
  },
  "language_info": {
   "codemirror_mode": {
    "name": "ipython",
    "version": 3
   },
   "file_extension": ".py",
   "mimetype": "text/x-python",
   "name": "python",
   "nbconvert_exporter": "python",
   "pygments_lexer": "ipython3",
   "version": "3.8.5"
  }
 },
 "nbformat": 4,
 "nbformat_minor": 4
}
